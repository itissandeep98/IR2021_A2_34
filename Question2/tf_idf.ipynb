{
 "cells": [
  {
   "cell_type": "code",
   "execution_count": 37,
   "metadata": {},
   "outputs": [],
   "source": [
    "import numpy as np\n",
    "from collections import Counter\n",
    "from tqdm.notebook import tqdm,tnrange\n",
    "class InvertedIndex():\n",
    "    def __init__(self):\n",
    "        self.DFpostings={}\n",
    "        self.tokens_files=[]\n",
    "\n",
    "    def __str__(self):\n",
    "        return \"Keys:\"+str(len(list(self.db.keys())))\n",
    "\n",
    "    def stripSpecialChar(self,text):\n",
    "        return ''.join(ch for ch in text if ch.isalnum() and not ch.isdigit() and ch not in string.punctuation)\n",
    "\n",
    "    def preProcess(self,text):\n",
    "        stemmer = SnowballStemmer(\"english\")\n",
    "        stopWords = set(stopwords.words('english'))\n",
    "\n",
    "        text = text.lower()                                     # convert all text to lower case\n",
    "        text_tokens = word_tokenize(text)                       # tokenizing the text\n",
    "\n",
    "        # stemmedWords = list([stemmer.stem(word) for word in text_tokens])\n",
    "        # validTokens = [i for i in stemmedWords if i not in stopWords]\n",
    "\n",
    "        validTokens = [i for i in text_tokens if i not in stopWords]    # removing stop words\n",
    "\n",
    "        validTokens = [self.stripSpecialChar(x) for x in validTokens]   # stripping special characters\n",
    "        validTokens = [x for x in validTokens if len(x) > 1]    # Choosing only words which has length > 1\n",
    "        return validTokens, set(validTokens)\n",
    "\n",
    "    def indexFile(self,file,fileId):\n",
    "        '''\n",
    "        Indexes the file pass as argument to the associated fileID\n",
    "        '''\n",
    "        tokens, setTokens = self.preProcess(file)\n",
    "        self.tokens_files.append(tokens)\n",
    "        for i in setTokens:\n",
    "            if i in self.DFpostings:\n",
    "                self.DFpostings[i].append(fileId)\n",
    "            else:\n",
    "                self.DFpostings[i] = [fileId]\n",
    "\n",
    "    def generateWordcloud(self):\n",
    "        '''\n",
    "        Creates a wordclound to visualize the frequence of words in the index\n",
    "        '''\n",
    "        frequencyDict = {}\n",
    "        for key in self.db:\n",
    "            frequencyDict[key] = len(self.db[key])\n",
    "        wordcloud = WordCloud().generate_from_frequencies(frequencyDict)\n",
    "        plt.imshow(wordcloud, interpolation=\"bilinear\")\n",
    "        plt.axis(\"off\")\n",
    "    \n",
    "    def get_fileTokens(i):\n",
    "        return self.tokens_files(i)\n",
    "\n",
    "    def save(self,file):\n",
    "        '''\n",
    "        Save the index to a file locally\n",
    "        '''\n",
    "        json.dump(self.DFpostings, open(file, \"w\"))\n"
   ]
  },
  {
   "cell_type": "code",
   "execution_count": 38,
   "metadata": {},
   "outputs": [],
   "source": [
    "import pickle\n",
    "with open('PostingsAndTokens2.obj','rb') as file_object:\n",
    "    raw_data = file_object.read()\n",
    "work_obj = pickle.loads(raw_data)\n"
   ]
  },
  {
   "cell_type": "code",
   "execution_count": 131,
   "metadata": {},
   "outputs": [],
   "source": [
    "class tf_idfmatrices():\n",
    "    def __init__(self,DFpostings, tokens, docs_count):\n",
    "        self.DFpostings = DFpostings\n",
    "        self.tokens = tokens\n",
    "        self.docs_count = docs_count\n",
    "        self.vocab_count = len(DFpostings)\n",
    "        self.vocabulary = [x for x in DFpostings]\n",
    "        self.idf = dict()\n",
    "        self.counter_lists=[]\n",
    "        self.most_common2 = []\n",
    "\n",
    "        self.tf_idf_Binary = np.zeros((docs_count, vocab_count))\n",
    "        self.tf_idf_RawCount = np.zeros((docs_count, vocab_count))\n",
    "        self.tf_idf_TermFreq = np.zeros((docs_count, vocab_count))\n",
    "        self.tf_idf_LogNorm = np.zeros((docs_count, vocab_count))\n",
    "        self.tf_idf_DoubleNorm = np.zeros((docs_count, vocab_count))\n",
    "    \n",
    "    def generateIDF(self):\n",
    "         for key in self.DFpostings:\n",
    "                c = len(self.DFpostings[key])\n",
    "                c=c+1                      #smoothihg factor\n",
    "                self.idf[key] = np.log10(self.docs_count/c) \n",
    "        \n",
    "    def generateCounterLists(self):\n",
    "        for i in tnrange(self.docs_count):\n",
    "            self.counter_lists.append(Counter(self.tokens[i]))\n",
    "            \n",
    "    def generateMostCommon2(self):\n",
    "        for i in tnrange(self.docs_count):\n",
    "            self.most_common2.append((self.counter_lists[i]).most_common(2))\n",
    "    \n",
    "    def generateBinary(self):\n",
    "        for i in tnrange(len(self.vocabulary)):\n",
    "            for j in range(self.docs_count):\n",
    "                if(self.vocabulary[i] in self.tokens[j]):\n",
    "                    self.tf_idf_Binary[j][i]=1*self.idf[self.vocabulary[i]]\n",
    "                    \n",
    "    def generateRawCount(self):\n",
    "        for i in tnrange(len(vocabulary)):\n",
    "            for j in range(self.docs_count):\n",
    "                self.tf_idf_RawCount[j][i] = self.counter_lists[j][self.vocabulary[i]]*self.idf[self.vocabulary[i]]\n",
    "    \n",
    "    def generateTermFreq(self):\n",
    "        for i in tnrange(len(vocabulary)):\n",
    "            for j in range(self.docs_count):\n",
    "                self.tf_idf_TermFreq[j][i] = (self.counter_lists[j][self.vocabulary[i]]/len(self.tokens[j]))*self.idf[self.vocabulary[i]]\n",
    "    \n",
    "    def generateLogNorm(self):\n",
    "        for i in tnrange(len(vocabulary)):\n",
    "            for j in range(self.docs_count):\n",
    "                self.tf_idf_LogNorm[j][i] = np.log10(1+self.counter_lists[j][self.vocabulary[i]])*self.idf[self.vocabulary[i]]\n",
    "    \n",
    "    def generateDoubleNorm(self):\n",
    "        for i in tnrange(len(self.vocabulary)):\n",
    "            for j in range(self.docs_count):\n",
    "                maxnum=0;\n",
    "                if(self.most_common2[j][0][0]==self.vocabulary[i]):\n",
    "                    maxnum = self.most_common2[j][1][1]\n",
    "                else:\n",
    "                    maxnum = self.most_common2[j][0][1]                \n",
    "                self.tf_idf_DoubleNorm[j][i] = (0.5+0.5*(self.counter_lists[j][self.vocabulary[i]]/maxnum))*self.idf[self.vocabulary[i]]\n",
    "        \n",
    "    \n",
    "        \n",
    "\n",
    "        \n",
    "        \n",
    "        "
   ]
  },
  {
   "cell_type": "code",
   "execution_count": 132,
   "metadata": {},
   "outputs": [
    {
     "data": {
      "application/vnd.jupyter.widget-view+json": {
       "model_id": "7309342e6166477581ac9aa3b0361555",
       "version_major": 2,
       "version_minor": 0
      },
      "text/plain": [
       "  0%|          | 0/467 [00:00<?, ?it/s]"
      ]
     },
     "metadata": {},
     "output_type": "display_data"
    },
    {
     "data": {
      "application/vnd.jupyter.widget-view+json": {
       "model_id": "275bb817d3f7418581321e53cf656d88",
       "version_major": 2,
       "version_minor": 0
      },
      "text/plain": [
       "  0%|          | 0/467 [00:00<?, ?it/s]"
      ]
     },
     "metadata": {},
     "output_type": "display_data"
    },
    {
     "data": {
      "application/vnd.jupyter.widget-view+json": {
       "model_id": "56262f7adfbd4718a40ac8f95cf588a2",
       "version_major": 2,
       "version_minor": 0
      },
      "text/plain": [
       "  0%|          | 0/54867 [00:00<?, ?it/s]"
      ]
     },
     "metadata": {},
     "output_type": "display_data"
    },
    {
     "data": {
      "application/vnd.jupyter.widget-view+json": {
       "model_id": "7ba4cba5a46c4b2c91694c976069918c",
       "version_major": 2,
       "version_minor": 0
      },
      "text/plain": [
       "  0%|          | 0/54867 [00:00<?, ?it/s]"
      ]
     },
     "metadata": {},
     "output_type": "display_data"
    },
    {
     "data": {
      "application/vnd.jupyter.widget-view+json": {
       "model_id": "71dfc78f4cc440e693bc5d4659871a72",
       "version_major": 2,
       "version_minor": 0
      },
      "text/plain": [
       "  0%|          | 0/54867 [00:00<?, ?it/s]"
      ]
     },
     "metadata": {},
     "output_type": "display_data"
    },
    {
     "data": {
      "application/vnd.jupyter.widget-view+json": {
       "model_id": "bc831245cf6045eb86cfce4ecc3accc2",
       "version_major": 2,
       "version_minor": 0
      },
      "text/plain": [
       "  0%|          | 0/54867 [00:00<?, ?it/s]"
      ]
     },
     "metadata": {},
     "output_type": "display_data"
    },
    {
     "data": {
      "application/vnd.jupyter.widget-view+json": {
       "model_id": "ee3b8ad2b91c4f1e80d7c2aa3cd22a75",
       "version_major": 2,
       "version_minor": 0
      },
      "text/plain": [
       "  0%|          | 0/54867 [00:00<?, ?it/s]"
      ]
     },
     "metadata": {},
     "output_type": "display_data"
    }
   ],
   "source": [
    "work_objthis = tf_idfmatrices(work_obj.DFpostings, work_obj.tokens_files,467)\n",
    "work_objthis.generateIDF()\n",
    "work_objthis.generateCounterLists()\n",
    "work_objthis.generateMostCommon2()\n",
    "work_objthis.generateBinary()\n",
    "work_objthis.generateRawCount()\n",
    "work_objthis.generateTermFreq()\n",
    "work_objthis.generateLogNorm()\n",
    "work_objthis.generateDoubleNorm()"
   ]
  },
  {
   "cell_type": "code",
   "execution_count": 201,
   "metadata": {},
   "outputs": [],
   "source": [
    "import pickle \n",
    "serialized = pickle.dumps(work_objthis)\n",
    "filename = 'TF_IDF_Calculated.obj'\n",
    "with open(filename,'wb') as file_object:\n",
    "    file_object.write(serialized)\n",
    "\n",
    "\n",
    "# with open('TF_IDF_Calculated.obj','rb') as file_object:\n",
    "#     raw_data = file_object.read()\n",
    "# work_objthis = pickle.loads(raw_data)"
   ]
  },
  {
   "cell_type": "code",
   "execution_count": 141,
   "metadata": {},
   "outputs": [
    {
     "name": "stderr",
     "output_type": "stream",
     "text": [
      "[nltk_data] Downloading package punkt to C:\\Users\\Sajeel\n",
      "[nltk_data]     Khan\\AppData\\Roaming\\nltk_data...\n",
      "[nltk_data]   Package punkt is already up-to-date!\n",
      "[nltk_data] Downloading package stopwords to C:\\Users\\Sajeel\n",
      "[nltk_data]     Khan\\AppData\\Roaming\\nltk_data...\n",
      "[nltk_data]   Package stopwords is already up-to-date!\n"
     ]
    }
   ],
   "source": [
    "from nltk.tokenize import word_tokenize\n",
    "import nltk\n",
    "from nltk.corpus import stopwords\n",
    "from nltk.stem import PorterStemmer,SnowballStemmer,WordNetLemmatizer\n",
    "import json\n",
    "import os\n",
    "from tqdm.notebook import tqdm,tnrange\n",
    "import string\n",
    "import numpy as np\n",
    "from wordcloud import WordCloud\n",
    "import matplotlib.pyplot as plt\n",
    "from collections import defaultdict\n",
    "from tabulate import tabulate\n",
    "\n",
    "nltk.download(\"punkt\")\n",
    "nltk.download(\"stopwords\")\n",
    "def stripSpecialChar(text):\n",
    "        return ''.join(ch for ch in text if ch.isalnum() and not ch.isdigit() and ch not in string.punctuation)\n",
    "    \n",
    "def preProcess(text):\n",
    "        stemmer = SnowballStemmer(\"english\")\n",
    "        stopWords = set(stopwords.words('english'))\n",
    "\n",
    "        text = text.lower()                                     # convert all text to lower case\n",
    "        text_tokens = word_tokenize(text)                       # tokenizing the text\n",
    "\n",
    "        # stemmedWords = list([stemmer.stem(word) for word in text_tokens])\n",
    "        # validTokens = [i for i in stemmedWords if i not in stopWords]\n",
    "\n",
    "        validTokens = [i for i in text_tokens if i not in stopWords]    # removing stop words\n",
    "\n",
    "        validTokens = [stripSpecialChar(x) for x in validTokens]   # stripping special characters\n",
    "        validTokens = [x for x in validTokens if len(x) > 1]    # Choosing only words which has length > 1\n",
    "        return validTokens"
   ]
  },
  {
   "cell_type": "code",
   "execution_count": 196,
   "metadata": {},
   "outputs": [],
   "source": [
    "class queryProcessing():\n",
    "    def __init__(self, queryList, work_objthis):\n",
    "        self.queryList = queryList\n",
    "        self.work_objthis = work_objthis\n",
    "        self.query_eval = np.zeros((work_objthis.docs_count,5))\n",
    "    def compute_Scores(self):\n",
    "        indextolookfor = []\n",
    "        for word in self.queryList:\n",
    "            index = self.work_objthis.vocabulary.index(word)\n",
    "            indextolookfor.append(index)\n",
    "        for docs in range(self.work_objthis.docs_count):\n",
    "            for query in indextolookfor:\n",
    "                self.query_eval[docs][0]+= self.work_objthis.tf_idf_Binary[docs][query]\n",
    "                self.query_eval[docs][1]+= self.work_objthis.tf_idf_RawCount[docs][query]\n",
    "                self.query_eval[docs][2]+= self.work_objthis.tf_idf_TermFreq[docs][query]\n",
    "                self.query_eval[docs][3]+= self.work_objthis.tf_idf_LogNorm[docs][query]\n",
    "                self.query_eval[docs][4]+= self.work_objthis.tf_idf_DoubleNorm[docs][query]\n",
    "                \n",
    "    def Top5(self,alist):\n",
    "        return sorted(range(len(alist)), key=lambda i: alist[i], reverse=True)[:5]\n",
    "\n",
    "    \n",
    "    def results(self):\n",
    "        print(\"For Binary TF-IDF, Top 5 documents:\")\n",
    "        print(self.Top5(self.query_eval[:,0]))\n",
    "        print(\"\")\n",
    "        print(\"For RawCount TF-IDF, Top 5 documents:\")\n",
    "        print(self.Top5(self.query_eval[:,1]))\n",
    "        print(\"\")\n",
    "        print(\"For TermFreq TF-IDF, Top 5 documents:\")\n",
    "        print(self.Top5(self.query_eval[:,2]))\n",
    "        print(\"\")\n",
    "        print(\"For LogNorm TF-IDF, Top 5 documents:\")\n",
    "        print(self.Top5(self.query_eval[:,3]))\n",
    "        print(\"\")\n",
    "        print(\"For DoubleNorm TF-IDF, Top 5 documents:\")\n",
    "        print(self.Top5(self.query_eval[:,4]))\n",
    "        print(\"\")\n",
    "\n",
    "\n",
    "        \n",
    "    "
   ]
  },
  {
   "cell_type": "code",
   "execution_count": 197,
   "metadata": {},
   "outputs": [
    {
     "name": "stdout",
     "output_type": "stream",
     "text": [
      "Enter the sentence:-lion today\n"
     ]
    }
   ],
   "source": [
    "sentence_query = input(\"Enter the sentence:-\")\n",
    "listofwords = preProcess(sentence_query)\n",
    "evaluation = queryProcessing(listofwords,work_objthis)\n",
    "evaluation.compute_Scores()\n",
    "evaluation.results()"
   ]
  }
 ],
 "metadata": {
  "kernelspec": {
   "display_name": "Python 3",
   "language": "python",
   "name": "python3"
  },
  "language_info": {
   "codemirror_mode": {
    "name": "ipython",
    "version": 3
   },
   "file_extension": ".py",
   "mimetype": "text/x-python",
   "name": "python",
   "nbconvert_exporter": "python",
   "pygments_lexer": "ipython3",
   "version": "3.7.6"
  }
 },
 "nbformat": 4,
 "nbformat_minor": 4
}
