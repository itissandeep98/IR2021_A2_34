{
 "cells": [
  {
   "cell_type": "code",
   "execution_count": 6,
   "metadata": {},
   "outputs": [
    {
     "name": "stderr",
     "output_type": "stream",
     "text": [
      "[nltk_data] Downloading package punkt to C:\\Users\\Sajeel\n",
      "[nltk_data]     Khan\\AppData\\Roaming\\nltk_data...\n",
      "[nltk_data]   Package punkt is already up-to-date!\n",
      "[nltk_data] Downloading package stopwords to C:\\Users\\Sajeel\n",
      "[nltk_data]     Khan\\AppData\\Roaming\\nltk_data...\n",
      "[nltk_data]   Package stopwords is already up-to-date!\n"
     ]
    }
   ],
   "source": [
    "import numpy as np\n",
    "from collections import Counter\n",
    "from nltk.tokenize import word_tokenize\n",
    "import nltk\n",
    "from nltk.corpus import stopwords\n",
    "from nltk.stem import PorterStemmer,SnowballStemmer,WordNetLemmatizer\n",
    "import json\n",
    "import os\n",
    "from tqdm.notebook import tqdm,tnrange\n",
    "import string\n",
    "import numpy as np\n",
    "from wordcloud import WordCloud\n",
    "import matplotlib.pyplot as plt\n",
    "from collections import defaultdict\n",
    "\n",
    "nltk.download(\"punkt\")\n",
    "nltk.download(\"stopwords\")\n",
    "class InvertedIndex():\n",
    "    def __init__(self):\n",
    "        self.DFpostings={}\n",
    "        self.tokens_files=[]\n",
    "\n",
    "    def __str__(self):\n",
    "        return \"Keys:\"+str(len(list(self.db.keys())))\n",
    "\n",
    "    def stripSpecialChar(self,text):\n",
    "        return ''.join(ch for ch in text if ch.isalnum() and not ch.isdigit() and ch not in string.punctuation)\n",
    "\n",
    "    def preProcess(self,text):\n",
    "        stemmer = SnowballStemmer(\"english\")\n",
    "        stopWords = set(stopwords.words('english'))\n",
    "\n",
    "        text = text.lower()                                     # convert all text to lower case\n",
    "        text_tokens = word_tokenize(text)                       # tokenizing the text\n",
    "\n",
    "        # stemmedWords = list([stemmer.stem(word) for word in text_tokens])\n",
    "        # validTokens = [i for i in stemmedWords if i not in stopWords]\n",
    "\n",
    "        validTokens = [i for i in text_tokens if i not in stopWords]    # removing stop words\n",
    "\n",
    "        validTokens = [self.stripSpecialChar(x) for x in validTokens]   # stripping special characters\n",
    "        validTokens = [x for x in validTokens if len(x) > 1]    # Choosing only words which has length > 1\n",
    "        return validTokens, set(validTokens)\n",
    "\n",
    "    def indexFile(self,file,fileId):\n",
    "        '''\n",
    "        Indexes the file pass as argument to the associated fileID\n",
    "        '''\n",
    "        tokens, setTokens = self.preProcess(file)\n",
    "        self.tokens_files.append(tokens)\n",
    "        for i in setTokens:\n",
    "            if i in self.DFpostings:\n",
    "                self.DFpostings[i].append(fileId)\n",
    "            else:\n",
    "                self.DFpostings[i] = [fileId]\n",
    "\n",
    "    def generateWordcloud(self):\n",
    "        '''\n",
    "        Creates a wordclound to visualize the frequence of words in the index\n",
    "        '''\n",
    "        frequencyDict = {}\n",
    "        for key in self.db:\n",
    "            frequencyDict[key] = len(self.db[key])\n",
    "        wordcloud = WordCloud().generate_from_frequencies(frequencyDict)\n",
    "        plt.imshow(wordcloud, interpolation=\"bilinear\")\n",
    "        plt.axis(\"off\")\n",
    "    \n",
    "    def get_fileTokens(i):\n",
    "        return self.tokens_files(i)\n",
    "\n",
    "    def save(self,file):\n",
    "        '''\n",
    "        Save the index to a file locally\n",
    "        '''\n",
    "        json.dump(self.DFpostings, open(file, \"w\"))\n"
   ]
  },
  {
   "cell_type": "code",
   "execution_count": 7,
   "metadata": {},
   "outputs": [
    {
     "data": {
      "application/vnd.jupyter.widget-view+json": {
       "model_id": "c3a047cdd05f4680953a8cf24e4bf7df",
       "version_major": 2,
       "version_minor": 0
      },
      "text/plain": [
       "  0%|          | 0/467 [00:00<?, ?it/s]"
      ]
     },
     "metadata": {},
     "output_type": "display_data"
    }
   ],
   "source": [
    "allFiles = os.walk(\"stories\")\n",
    "filePaths = []\n",
    "for i in allFiles:\n",
    "    for j in i[2]:\n",
    "        filePath = i[0] + \"/\" + j\n",
    "        filePaths.append(filePath)\n",
    "\n",
    "json.dump(filePaths, open(\"mapping.json\", \"w\"))\n",
    "\n",
    "index = InvertedIndex()\n",
    "\n",
    "for i,filePath in enumerate(tqdm(filePaths)):\n",
    "    try:\n",
    "        file = open(filePath, encoding=\"utf8\")\n",
    "        read = file.read().replace('\\n', ' ')    \n",
    "    except Exception as e:\n",
    "        file = open(filePath, encoding=\"unicode_escape\")\n",
    "        read = file.read().replace('\\n', ' ')\n",
    "    file.close()\n",
    "    index.indexFile(read, i)\n",
    "    \n",
    "import pickle \n",
    "serialized = pickle.dumps(index)\n",
    "filename = 'PostingsAndTokens2.obj'\n",
    "with open(filename,'wb') as file_object:\n",
    "    file_object.write(serialized)"
   ]
  },
  {
   "cell_type": "code",
   "execution_count": null,
   "metadata": {},
   "outputs": [],
   "source": []
  }
 ],
 "metadata": {
  "kernelspec": {
   "display_name": "Python 3",
   "language": "python",
   "name": "python3"
  },
  "language_info": {
   "codemirror_mode": {
    "name": "ipython",
    "version": 3
   },
   "file_extension": ".py",
   "mimetype": "text/x-python",
   "name": "python",
   "nbconvert_exporter": "python",
   "pygments_lexer": "ipython3",
   "version": "3.7.6"
  }
 },
 "nbformat": 4,
 "nbformat_minor": 4
}
