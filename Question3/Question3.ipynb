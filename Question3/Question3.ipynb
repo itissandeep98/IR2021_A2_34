{
 "cells": [
  {
   "cell_type": "code",
   "execution_count": 3,
   "metadata": {},
   "outputs": [],
   "source": [
    "import math\n",
    "import pandas as pd\n",
    "import numpy as np\n",
    "import matplotlib.pyplot as plt"
   ]
  },
  {
   "cell_type": "code",
   "execution_count": null,
   "metadata": {},
   "outputs": [],
   "source": [
    "# The IR-assignment-2-data.txt should be copied into Local Directory, size is too large can't upload to Github\n",
    "data = pd.read_csv('IR-assignment-2-data.txt', sep=\" \", header=None)\n",
    "rows = len(data.index)\n",
    "db = {}   #Database for storing docID and Relevance Score\n",
    "\n",
    "for i in range(0,rows):\n",
    "    # Storing queries with qid:4 only\n",
    "    if (data.at[i,1] == \"qid:4\"):\n",
    "        db[i] = data.at[i,0]\n",
    "\n",
    "\n",
    "def savefileMaxDcg(data, db):\n",
    "    temp =data.drop((data.index[len(db):]))\n",
    "    np.savetxt('query4max.txt', temp.values, fmt='%s', delimiter=\" \")\n",
    "\n",
    "savefileMaxDcg(data, db)\n",
    "\n",
    "unsortedDb = db.items()\n",
    "unsortedDb = list(unsortedDb) #List of tuple conatining docID and relevance pairs\n",
    "\n",
    "# Sorting the database for getting maxDCG\n",
    "db = sorted(db.items(), key = lambda kv:(kv[1], kv[0]), reverse = True)"
   ]
  },
  {
   "cell_type": "code",
   "execution_count": null,
   "metadata": {},
   "outputs": [],
   "source": [
    "def findTotalFiles(db):\n",
    "    count_3rel=0\n",
    "    count_2rel=0\n",
    "    count_1rel=0\n",
    "    count_0rel=0\n",
    "    for i in db:\n",
    "        if (i[1] == 3):\n",
    "            count_3rel+=1;\n",
    "        elif (i[1] == 2):\n",
    "            count_2rel+=1;\n",
    "        elif (i[1] == 1):\n",
    "            count_1rel+=1;\n",
    "        else:\n",
    "            count_0rel+=1;\n",
    "        \n",
    "    return math.factorial(count_3rel)*math.factorial(count_2rel)*math.factorial(count_1rel)*math.factorial(count_0rel)\n",
    "#The total number of files will be 1!*17!*26!*59!\n",
    "#findTotalFiles(db)"
   ]
  },
  {
   "cell_type": "code",
   "execution_count": null,
   "metadata": {},
   "outputs": [],
   "source": [
    "def findDCG(data, length):\n",
    "    ans = data[0][1];\n",
    "    for i in range(1, length):\n",
    "        temp = (data[i][1]/math.log2(i+1))\n",
    "        ans= ans + temp    \n",
    "    return ans   "
   ]
  },
  {
   "cell_type": "code",
   "execution_count": null,
   "metadata": {},
   "outputs": [],
   "source": [
    "# MAx DCG using alternative formula is 28.98846753873482\n",
    "def findAlternativeDCG(data):\n",
    "    max_dcg_alt= 0\n",
    "    i=1\n",
    "    for val in db:\n",
    "        max_dcg_alt += (pow(2, int(val[1]))-1)/np.log2(1+i)\n",
    "        i += 1\n",
    "    return max_dcg_alt\n",
    "#print(findAlternativeDCG(db))"
   ]
  },
  {
   "cell_type": "code",
   "execution_count": null,
   "metadata": {},
   "outputs": [],
   "source": [
    "# db contains sorted pairs\n",
    "maxDcgValue = findDCG(db, len(db))\n",
    "unsortedDcgValue = findDCG(unsortedDb, len(unsortedDb))\n",
    "\n",
    "maxDcgValue_50 = findDCG(db, 51)\n",
    "unsortedDcgValue_50 = findDCG(unsortedDb, 51)\n",
    "#Printing nDCG\n",
    "print(\"Max DCG is: {}\".format(maxDcgValue))\n",
    "print(\"nDCG at 50: {}\".format(unsortedDcgValue_50/maxDcgValue_50))\n",
    "print(\"nDCG whole Dataset: {}\".format(unsortedDcgValue/maxDcgValue)) "
   ]
  },
  {
   "cell_type": "code",
   "execution_count": null,
   "metadata": {},
   "outputs": [],
   "source": [
    "def getRelevanceandTFpairs(db):\n",
    "    for i in range(0,rows):\n",
    "        if (data.at[i,1] == \"qid:4\"):\n",
    "            s = float(data.at[i,76][3:])  #Storing the tf-idf value\n",
    "            temp = (s,data.at[i,0])\n",
    "            db[i] = (temp)\n",
    "            \n",
    "def drawGraph(recall, precision):\n",
    "    plt.plot(recall, precision)\n",
    "    plt.xlabel('Recall')\n",
    "    plt.ylabel('Precision')\n",
    "    plt.title('Precision - Recall Curve')\n",
    "    plt.show()\n",
    "\n",
    "def getPrecisionAndRecall(rel_tf_pairs):\n",
    "    #ranking docs on the basis of the value of feature 45\n",
    "    sortedByTF = sorted(rel_tf_pairs.items(), key = lambda kv:(kv[1], kv[0]), reverse = True)\n",
    "    totalDocs = 103\n",
    "    totalRelDocs = 44;\n",
    "    retrivedRelDocs = 0;\n",
    "    precision = []\n",
    "    recall = []\n",
    "\n",
    "    # Finding Recall and Precision \n",
    "    for i in range(0, len(sortedByTF)):\n",
    "        if (sortedByTF[i][1][1] != 0):\n",
    "            retrivedRelDocs+=1\n",
    "        precision.append(retrivedRelDocs/(i+1))\n",
    "        recall.append(retrivedRelDocs/totalRelDocs)\n",
    "    drawGraph(recall, precision)\n"
   ]
  },
  {
   "cell_type": "code",
   "execution_count": null,
   "metadata": {},
   "outputs": [],
   "source": [
    "rel_tf_pairs = {}    # Database for storing Relevance and tf-idf pairs\n",
    "getRelevanceandTFpairs(rel_tf_pairs)\n",
    "getPrecisionAndRecall(rel_tf_pairs)\n"
   ]
  },
  {
   "cell_type": "code",
   "execution_count": null,
   "metadata": {},
   "outputs": [],
   "source": []
  }
 ],
 "metadata": {
  "kernelspec": {
   "display_name": "Python 3",
   "language": "python",
   "name": "python3"
  },
  "language_info": {
   "codemirror_mode": {
    "name": "ipython",
    "version": 3
   },
   "file_extension": ".py",
   "mimetype": "text/x-python",
   "name": "python",
   "nbconvert_exporter": "python",
   "pygments_lexer": "ipython3",
   "version": "3.8.3"
  }
 },
 "nbformat": 4,
 "nbformat_minor": 4
}
